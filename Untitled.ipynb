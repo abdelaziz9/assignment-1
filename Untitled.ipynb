{
 "cells": [
  {
   "cell_type": "code",
   "execution_count": 9,
   "metadata": {},
   "outputs": [
    {
     "name": "stdout",
     "output_type": "stream",
     "text": [
      "\u001b[1;32mPASS\u001b[m NumPy installed\n",
      "\u001b[1;32mPASS\u001b[m SciPy installed\n",
      "\u001b[1;32mPASS\u001b[m matplotlib installed\n",
      "\u001b[1;32mPASS\u001b[m PyTorch installed\n",
      "\u001b[1;32mPASS\u001b[m tqdm installed\n"
     ]
    }
   ],
   "source": [
    "def green(s):\n",
    "    return '\\033[1;32m%s\\033[m' % s\n",
    "\n",
    "\n",
    "def yellow(s):\n",
    "    return '\\033[1;33m%s\\033[m' % s\n",
    "\n",
    "\n",
    "def red(s):\n",
    "    return '\\033[1;31m%s\\033[m' % s\n",
    "\n",
    "\n",
    "def log(*m):\n",
    "    print(\" \".join(map(str, m)))\n",
    "\n",
    "\n",
    "def log_exit(*m):\n",
    "    log(red(\"ERROR:\"), *m)\n",
    "    exit(1)\n",
    "\n",
    "\n",
    "def check_numpy():\n",
    "    try:\n",
    "        import numpy as np\n",
    "        log(green(\"PASS\"), \"NumPy installed\")\n",
    "    except ModuleNotFoundError:\n",
    "        log(red(\"FAIL\"), \"NumPy not installed\")\n",
    "\n",
    "\n",
    "def check_scipy():\n",
    "    try:\n",
    "        import scipy\n",
    "        log(green(\"PASS\"), \"SciPy installed\")\n",
    "    except ModuleNotFoundError:\n",
    "        log(red(\"FAIL\"), \"SciPy not installed\")\n",
    "\n",
    "\n",
    "def check_matplotlib():\n",
    "    try:\n",
    "        import matplotlib\n",
    "        log(green(\"PASS\"), \"matplotlib installed\")\n",
    "    except ModuleNotFoundError:\n",
    "        log(red(\"FAIL\"), \"matplotlib not installed\")\n",
    "\n",
    "\n",
    "def check_torch():\n",
    "    try:\n",
    "        import torch\n",
    "        log(green(\"PASS\"), \"PyTorch installed\")\n",
    "    except ModuleNotFoundError:\n",
    "        log(red(\"FAIL\"), \"PyTorch not installed\")\n",
    "\n",
    "\n",
    "def check_tqdm():\n",
    "    try:\n",
    "        import tqdm\n",
    "        log(green(\"PASS\"), \"tqdm installed\")\n",
    "    except ModuleNotFoundError:\n",
    "        log(red(\"FAIL\"), \"tqdm not installed\")\n",
    "\n",
    "\n",
    "def main():\n",
    "    try:\n",
    "        check_numpy()\n",
    "        check_scipy()\n",
    "        check_matplotlib()\n",
    "        check_torch()\n",
    "        check_tqdm()\n",
    "    except Exception:\n",
    "        log_exit(traceback.format_exc())\n",
    "\n",
    "\n",
    "if __name__ == \"__main__\":\n",
    "    main()"
   ]
  },
  {
   "cell_type": "code",
   "execution_count": 12,
   "metadata": {},
   "outputs": [],
   "source": [
    "import numpy as np\n",
    "def randomization(n):\n",
    " \n",
    "    arr=np.random.rand(n,1)\n",
    "    return arr"
   ]
  },
  {
   "cell_type": "code",
   "execution_count": 15,
   "metadata": {},
   "outputs": [],
   "source": [
    "def operations(h, w):\n",
    "\n",
    "    A = np.random.rand(h, w)\n",
    "    B = np.random.rand(h, w)\n",
    "    s = A+B\n",
    "    return A,B,s"
   ]
  },
  {
   "cell_type": "code",
   "execution_count": 4,
   "metadata": {},
   "outputs": [],
   "source": [
    "def norm(A, B):\n",
    "\n",
    "    s = np.linalg.norm(A+B)\n",
    "    return s"
   ]
  },
  {
   "cell_type": "code",
   "execution_count": 5,
   "metadata": {},
   "outputs": [],
   "source": [
    "def neural_network(inputs, weights):\n",
    "\n",
    "    product=np.matmul(weights.transpose(),inputs)\n",
    "    out=np.tanh(product)\n",
    "    return out"
   ]
  },
  {
   "cell_type": "code",
   "execution_count": 6,
   "metadata": {},
   "outputs": [],
   "source": [
    "def scalar_function(x, y):\n",
    "\n",
    "    if(x<y):\n",
    "        return x*y\n",
    "    else:\n",
    "        return x/y"
   ]
  },
  {
   "cell_type": "code",
   "execution_count": 7,
   "metadata": {},
   "outputs": [],
   "source": [
    "def vector_function(x, y):\n",
    "\n",
    "    out = np.vectorize(Scalar_function)\n",
    "    return out(x,y)\n"
   ]
  }
 ],
 "metadata": {
  "kernelspec": {
   "display_name": "Python 3",
   "language": "python",
   "name": "python3"
  },
  "language_info": {
   "codemirror_mode": {
    "name": "ipython",
    "version": 3
   },
   "file_extension": ".py",
   "mimetype": "text/x-python",
   "name": "python",
   "nbconvert_exporter": "python",
   "pygments_lexer": "ipython3",
   "version": "3.8.3"
  }
 },
 "nbformat": 4,
 "nbformat_minor": 4
}
